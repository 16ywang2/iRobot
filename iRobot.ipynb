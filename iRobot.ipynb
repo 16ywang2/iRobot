{
 "cells": [
  {
   "cell_type": "code",
   "execution_count": 118,
   "metadata": {},
   "outputs": [],
   "source": [
    "import numpy as np\n",
    "import pandas as pd\n",
    "import matplotlib.pyplot as plt\n",
    "import seaborn as sns\n",
    "from datetime import datetime\n",
    "import statistics as stat\n",
    "from scipy import stats\n",
    "import pytz\n",
    "import geopandas\n",
    "import geopy\n",
    "from geopy.geocoders import Nominatim\n",
    "from sklearn.linear_model import LinearRegression\n",
    "import folium\n",
    "from folium.plugins import MarkerCluster\n",
    "import statsmodels.api as sm\n",
    "\n",
    "\n"
   ]
  },
  {
   "cell_type": "code",
   "execution_count": 2,
   "metadata": {},
   "outputs": [],
   "source": [
    "mission = pd.read_csv(\"mission_data.csv\")\n",
    "geo = pd.read_csv(\"geo_data.csv\")"
   ]
  },
  {
   "cell_type": "markdown",
   "metadata": {},
   "source": [
    "# Exploratory Data Analysis"
   ]
  },
  {
   "cell_type": "markdown",
   "metadata": {},
   "source": [
    "First, I would like to perform some EDA."
   ]
  },
  {
   "cell_type": "code",
   "execution_count": 3,
   "metadata": {},
   "outputs": [
    {
     "data": {
      "text/html": [
       "<div>\n",
       "<style scoped>\n",
       "    .dataframe tbody tr th:only-of-type {\n",
       "        vertical-align: middle;\n",
       "    }\n",
       "\n",
       "    .dataframe tbody tr th {\n",
       "        vertical-align: top;\n",
       "    }\n",
       "\n",
       "    .dataframe thead th {\n",
       "        text-align: right;\n",
       "    }\n",
       "</style>\n",
       "<table border=\"1\" class=\"dataframe\">\n",
       "  <thead>\n",
       "    <tr style=\"text-align: right;\">\n",
       "      <th></th>\n",
       "      <th>robotid</th>\n",
       "      <th>datetime</th>\n",
       "      <th>nmssn</th>\n",
       "      <th>runm</th>\n",
       "      <th>chrgm</th>\n",
       "      <th>pausem</th>\n",
       "      <th>outcome</th>\n",
       "    </tr>\n",
       "  </thead>\n",
       "  <tbody>\n",
       "    <tr>\n",
       "      <th>0</th>\n",
       "      <td>000NG2FMLJBT9ANZ</td>\n",
       "      <td>2017-10-01 16:17:22</td>\n",
       "      <td>40</td>\n",
       "      <td>3</td>\n",
       "      <td>1</td>\n",
       "      <td>2</td>\n",
       "      <td>stuck</td>\n",
       "    </tr>\n",
       "    <tr>\n",
       "      <th>1</th>\n",
       "      <td>000NG2FMLJBT9ANZ</td>\n",
       "      <td>2017-10-03 14:25:56</td>\n",
       "      <td>41</td>\n",
       "      <td>83</td>\n",
       "      <td>0</td>\n",
       "      <td>13</td>\n",
       "      <td>ok</td>\n",
       "    </tr>\n",
       "    <tr>\n",
       "      <th>2</th>\n",
       "      <td>000NG2FMLJBT9ANZ</td>\n",
       "      <td>2017-10-04 12:32:51</td>\n",
       "      <td>42</td>\n",
       "      <td>66</td>\n",
       "      <td>13</td>\n",
       "      <td>12</td>\n",
       "      <td>ok</td>\n",
       "    </tr>\n",
       "    <tr>\n",
       "      <th>3</th>\n",
       "      <td>000NG2FMLJBT9ANZ</td>\n",
       "      <td>2017-10-26 02:12:55</td>\n",
       "      <td>45</td>\n",
       "      <td>72</td>\n",
       "      <td>24</td>\n",
       "      <td>0</td>\n",
       "      <td>cncl</td>\n",
       "    </tr>\n",
       "    <tr>\n",
       "      <th>4</th>\n",
       "      <td>000NG2FMLJBT9ANZ</td>\n",
       "      <td>2017-10-27 07:17:39</td>\n",
       "      <td>46</td>\n",
       "      <td>61</td>\n",
       "      <td>9</td>\n",
       "      <td>0</td>\n",
       "      <td>cncl</td>\n",
       "    </tr>\n",
       "  </tbody>\n",
       "</table>\n",
       "</div>"
      ],
      "text/plain": [
       "            robotid             datetime  nmssn  runm  chrgm  pausem outcome\n",
       "0  000NG2FMLJBT9ANZ  2017-10-01 16:17:22     40     3      1       2   stuck\n",
       "1  000NG2FMLJBT9ANZ  2017-10-03 14:25:56     41    83      0      13      ok\n",
       "2  000NG2FMLJBT9ANZ  2017-10-04 12:32:51     42    66     13      12      ok\n",
       "3  000NG2FMLJBT9ANZ  2017-10-26 02:12:55     45    72     24       0    cncl\n",
       "4  000NG2FMLJBT9ANZ  2017-10-27 07:17:39     46    61      9       0    cncl"
      ]
     },
     "execution_count": 3,
     "metadata": {},
     "output_type": "execute_result"
    }
   ],
   "source": [
    "mission.head()"
   ]
  },
  {
   "cell_type": "code",
   "execution_count": 4,
   "metadata": {},
   "outputs": [
    {
     "data": {
      "text/html": [
       "<div>\n",
       "<style scoped>\n",
       "    .dataframe tbody tr th:only-of-type {\n",
       "        vertical-align: middle;\n",
       "    }\n",
       "\n",
       "    .dataframe tbody tr th {\n",
       "        vertical-align: top;\n",
       "    }\n",
       "\n",
       "    .dataframe thead th {\n",
       "        text-align: right;\n",
       "    }\n",
       "</style>\n",
       "<table border=\"1\" class=\"dataframe\">\n",
       "  <thead>\n",
       "    <tr style=\"text-align: right;\">\n",
       "      <th></th>\n",
       "      <th>country_cd</th>\n",
       "      <th>timezone</th>\n",
       "      <th>robotid</th>\n",
       "    </tr>\n",
       "  </thead>\n",
       "  <tbody>\n",
       "    <tr>\n",
       "      <th>0</th>\n",
       "      <td>SE</td>\n",
       "      <td>Europe/Stockholm</td>\n",
       "      <td>T29NF13ZIYISNF79</td>\n",
       "    </tr>\n",
       "    <tr>\n",
       "      <th>1</th>\n",
       "      <td>JP</td>\n",
       "      <td>Asia/Tokyo</td>\n",
       "      <td>9S12V26O6G426OYR</td>\n",
       "    </tr>\n",
       "    <tr>\n",
       "      <th>2</th>\n",
       "      <td>IL</td>\n",
       "      <td>Asia/Jerusalem</td>\n",
       "      <td>QI6X3P9JKNILKKU1</td>\n",
       "    </tr>\n",
       "    <tr>\n",
       "      <th>3</th>\n",
       "      <td>IL</td>\n",
       "      <td>Asia/Jerusalem</td>\n",
       "      <td>7OMKNWMWA4XWC911</td>\n",
       "    </tr>\n",
       "    <tr>\n",
       "      <th>4</th>\n",
       "      <td>IL</td>\n",
       "      <td>Asia/Jerusalem</td>\n",
       "      <td>YO63CL0ZFK83SYCZ</td>\n",
       "    </tr>\n",
       "  </tbody>\n",
       "</table>\n",
       "</div>"
      ],
      "text/plain": [
       "  country_cd          timezone           robotid\n",
       "0         SE  Europe/Stockholm  T29NF13ZIYISNF79\n",
       "1         JP        Asia/Tokyo  9S12V26O6G426OYR\n",
       "2         IL    Asia/Jerusalem  QI6X3P9JKNILKKU1\n",
       "3         IL    Asia/Jerusalem  7OMKNWMWA4XWC911\n",
       "4         IL    Asia/Jerusalem  YO63CL0ZFK83SYCZ"
      ]
     },
     "execution_count": 4,
     "metadata": {},
     "output_type": "execute_result"
    }
   ],
   "source": [
    "geo.head()"
   ]
  },
  {
   "cell_type": "markdown",
   "metadata": {},
   "source": [
    "It's important that we merge the two datasets by robotid so we can explore robot usage by region."
   ]
  },
  {
   "cell_type": "code",
   "execution_count": 5,
   "metadata": {},
   "outputs": [],
   "source": [
    "mission = pd.merge(left = mission, right = geo, on = \"robotid\")"
   ]
  },
  {
   "cell_type": "markdown",
   "metadata": {},
   "source": [
    "There are 9826 unique robots in the dataset:"
   ]
  },
  {
   "cell_type": "code",
   "execution_count": 6,
   "metadata": {},
   "outputs": [
    {
     "data": {
      "text/plain": [
       "9826"
      ]
     },
     "execution_count": 6,
     "metadata": {},
     "output_type": "execute_result"
    }
   ],
   "source": [
    "mission[\"robotid\"].nunique()\n"
   ]
  },
  {
   "cell_type": "markdown",
   "metadata": {},
   "source": [
    "There are 84 countries and 121 unique timezones, and the majority of the data come from Isreal. This also shows that the data is not a random sample."
   ]
  },
  {
   "cell_type": "code",
   "execution_count": 7,
   "metadata": {},
   "outputs": [
    {
     "data": {
      "text/plain": [
       "IL    220119\n",
       "CN     21054\n",
       "FR     17719\n",
       "JP     11743\n",
       "CA     11126\n",
       "       ...  \n",
       "PH        13\n",
       "AG         8\n",
       "SX         8\n",
       "BH         8\n",
       "VE         1\n",
       "Name: country_cd, Length: 84, dtype: int64"
      ]
     },
     "execution_count": 7,
     "metadata": {},
     "output_type": "execute_result"
    }
   ],
   "source": [
    "mission[\"country_cd\"].nunique()\n",
    "mission[\"country_cd\"].value_counts()"
   ]
  },
  {
   "cell_type": "code",
   "execution_count": 8,
   "metadata": {},
   "outputs": [
    {
     "data": {
      "text/plain": [
       "121"
      ]
     },
     "execution_count": 8,
     "metadata": {},
     "output_type": "execute_result"
    }
   ],
   "source": [
    "mission[\"timezone\"].nunique()"
   ]
  },
  {
   "cell_type": "markdown",
   "metadata": {},
   "source": [
    "It looks like the robot works ok about 50% of the time; user cancels about 40% of the time; stuck and battery issues combine for less than 10% of the time."
   ]
  },
  {
   "cell_type": "code",
   "execution_count": 9,
   "metadata": {},
   "outputs": [
    {
     "data": {
      "text/plain": [
       "ok       0.517128\n",
       "cncl     0.398758\n",
       "stuck    0.060490\n",
       "bat      0.023624\n",
       "Name: outcome, dtype: float64"
      ]
     },
     "execution_count": 9,
     "metadata": {},
     "output_type": "execute_result"
    }
   ],
   "source": [
    "mission[\"outcome\"].value_counts()/len(mission)"
   ]
  },
  {
   "cell_type": "code",
   "execution_count": 10,
   "metadata": {},
   "outputs": [
    {
     "data": {
      "text/plain": [
       "Text(0.5, 1.0, 'Distribution of pausing Time')"
      ]
     },
     "execution_count": 10,
     "metadata": {},
     "output_type": "execute_result"
    },
    {
     "data": {
      "image/png": "[encoded data removed]",
      "text/plain": [
       "<Figure size 1080x720 with 3 Axes>"
      ]
     },
     "metadata": {
      "needs_background": "light"
     },
     "output_type": "display_data"
    }
   ],
   "source": [
    "fig = plt.figure(figsize = (15,10))\n",
    "ax1 = fig.add_subplot(3,1,1)\n",
    "ax1.hist(mission[\"runm\"])\n",
    "ax1.set_title(\"Distribution of Cleaning Time\")\n",
    "ax2 = fig.add_subplot(3,1,2)\n",
    "ax2.hist(mission[\"chrgm\"], range = (0,150))\n",
    "ax2.set_title(\"Distribution of Charging Time\")\n",
    "ax3 = fig.add_subplot(3,1,3)\n",
    "ax3.hist(mission[\"pausem\"])\n",
    "ax3.set_title(\"Distribution of pausing Time\")\n"
   ]
  },
  {
   "cell_type": "markdown",
   "metadata": {},
   "source": [
    "We can see that cleaning time has a relatively even distribution, ranging from 0min- 140min, averages around 40-60min. Most missions have charging time less than 10 mins, and pausing time less than 5 mins, although some missions do pause for more than 20min, which is quite long. "
   ]
  },
  {
   "cell_type": "markdown",
   "metadata": {},
   "source": [
    "# Feature Engineering"
   ]
  },
  {
   "cell_type": "markdown",
   "metadata": {},
   "source": [
    "### Local date and time"
   ]
  },
  {
   "cell_type": "markdown",
   "metadata": {},
   "source": [
    "Next, I would need to extract some features from the datetime column for further analysis. Since it follows UTC time, we need to first convert them into local time."
   ]
  },
  {
   "cell_type": "code",
   "execution_count": 11,
   "metadata": {},
   "outputs": [],
   "source": [
    "mission[\"datetime_object\"] = mission[\"datetime\"].apply(lambda x: datetime.strptime(x, \"%Y-%m-%d %H:%M:%S\"))"
   ]
  },
  {
   "cell_type": "code",
   "execution_count": 12,
   "metadata": {},
   "outputs": [],
   "source": [
    "def convert(row):\n",
    "    return pytz.utc.localize(row[\"datetime_object\"]).astimezone(row[\"timezone\"])"
   ]
  },
  {
   "cell_type": "code",
   "execution_count": 13,
   "metadata": {},
   "outputs": [],
   "source": [
    "mission[\"local_time\"] = mission.apply(convert, axis = 1)"
   ]
  },
  {
   "cell_type": "code",
   "execution_count": 14,
   "metadata": {},
   "outputs": [],
   "source": [
    "mission[\"year\"] = mission[\"local_time\"].apply(lambda x: x.year)\n",
    "mission[\"month\"] = mission[\"local_time\"].apply(lambda x: x.month)\n",
    "mission[\"day\"] = mission[\"local_time\"].apply(lambda x: x.day)\n",
    "mission[\"hour\"] = mission[\"local_time\"].apply(lambda x: x.hour)"
   ]
  },
  {
   "cell_type": "markdown",
   "metadata": {},
   "source": [
    "Now that we have the proper local times, I will categorize the hour into morning, afternoon, and night and month into seasons"
   ]
  },
  {
   "cell_type": "code",
   "execution_count": 15,
   "metadata": {},
   "outputs": [],
   "source": [
    "def hrlabel(hour):\n",
    "    if 8<=hour<=12:\n",
    "        return \"morning\"\n",
    "    elif 12 < hour <= 18:\n",
    "        return \"afternoon\"\n",
    "    elif 18< hour <= 24:\n",
    "        return \"night\"\n",
    "    else:\n",
    "        return \"dawn\""
   ]
  },
  {
   "cell_type": "code",
   "execution_count": 16,
   "metadata": {},
   "outputs": [],
   "source": [
    "mission[\"time_of_day\"] = mission[\"hour\"].apply(hrlabel)\n"
   ]
  },
  {
   "cell_type": "markdown",
   "metadata": {},
   "source": [
    "### Usage Ratio"
   ]
  },
  {
   "cell_type": "markdown",
   "metadata": {},
   "source": [
    "Another thing that could be interesting would be the \"usage ratio\": how much of the total time spent per mission is actual cleaning:"
   ]
  },
  {
   "cell_type": "code",
   "execution_count": 17,
   "metadata": {},
   "outputs": [],
   "source": [
    "mission[\"usage_ratio\"] = mission[\"runm\"]/(mission[\"runm\"] + mission[\"chrgm\"] + mission[\"pausem\"])"
   ]
  },
  {
   "cell_type": "markdown",
   "metadata": {},
   "source": [
    "### Region"
   ]
  },
  {
   "cell_type": "markdown",
   "metadata": {},
   "source": [
    "Finally, we can use the timezone column to categorize data into regions"
   ]
  },
  {
   "cell_type": "code",
   "execution_count": 18,
   "metadata": {},
   "outputs": [],
   "source": [
    "def getregion(timezone):\n",
    "    return timezone.split(\"/\")[0]"
   ]
  },
  {
   "cell_type": "code",
   "execution_count": 19,
   "metadata": {},
   "outputs": [],
   "source": [
    "mission[\"region\"] = mission[\"timezone\"].apply(getregion)"
   ]
  },
  {
   "cell_type": "markdown",
   "metadata": {},
   "source": [
    "Given that Israel has so much data, it should have its own region. Also, places in South America should also be seperated out from North America."
   ]
  },
  {
   "cell_type": "code",
   "execution_count": 20,
   "metadata": {},
   "outputs": [],
   "source": [
    "mission.loc[mission[\"country_cd\"] == \"IL\", \"region\"] = \"Israel\"\n",
    "mission.loc[mission[\"timezone\"].str.contains(\"Montevideo\"), \"region\"] = \"Latin_America\"\n",
    "mission.loc[mission[\"timezone\"].str.contains(\"Argentina\"), \"region\"] = \"Latin_America\"\n",
    "mission.loc[mission[\"timezone\"].str.contains(\"Guatemala\"), \"region\"] = \"Latin_America\"\n",
    "mission.loc[mission[\"timezone\"].str.contains(\"Bahia\"), \"region\"] = \"Latin_America\"\n",
    "mission.loc[mission[\"timezone\"].str.contains(\"Panama\"), \"region\"] = \"Latin_America\"\n",
    "mission.loc[mission[\"timezone\"].str.contains(\"Bogota\"), \"region\"] = \"Latin_America\"\n",
    "mission.loc[mission[\"timezone\"].str.contains(\"Jamaica\"), \"region\"] = \"Latin_America\"\n",
    "mission.loc[mission[\"timezone\"].str.contains(\"Campo_Grande\"), \"region\"] = \"Latin_America\"\n",
    "mission.loc[mission[\"timezone\"].str.contains(\"Nassau\"), \"region\"] = \"Latin_America\"\n",
    "mission.loc[mission[\"timezone\"].str.contains(\"Paramaribo\"), \"region\"] = \"Latin_America\""
   ]
  },
  {
   "cell_type": "code",
   "execution_count": 21,
   "metadata": {},
   "outputs": [
    {
     "data": {
      "text/plain": [
       "Israel           220119\n",
       "Europe            77708\n",
       "Asia              43779\n",
       "America           20311\n",
       "Australia          3100\n",
       "Latin_America      1319\n",
       "Pacific             726\n",
       "Atlantic            478\n",
       "Africa              139\n",
       "Name: region, dtype: int64"
      ]
     },
     "execution_count": 21,
     "metadata": {},
     "output_type": "execute_result"
    }
   ],
   "source": [
    "mission[\"region\"].value_counts()"
   ]
  },
  {
   "cell_type": "markdown",
   "metadata": {},
   "source": [
    "# Task 1 Region Analysis"
   ]
  },
  {
   "cell_type": "markdown",
   "metadata": {},
   "source": [
    "### Usage_Ratio"
   ]
  },
  {
   "cell_type": "code",
   "execution_count": 22,
   "metadata": {},
   "outputs": [],
   "source": [
    "usage_df = mission.groupby(\"region\")[\"usage_ratio\"].mean().sort_values(ascending = False)"
   ]
  },
  {
   "cell_type": "code",
   "execution_count": 23,
   "metadata": {},
   "outputs": [
    {
     "data": {
      "text/plain": [
       "Text(0.5, 1.0, 'Usage Ratio (running time/total time per mission) across different regions')"
      ]
     },
     "execution_count": 23,
     "metadata": {},
     "output_type": "execute_result"
    },
    {
     "data": {
      "image/png": "[encoded data removed]",
      "text/plain": [
       "<Figure size 1080x360 with 1 Axes>"
      ]
     },
     "metadata": {
      "needs_background": "light"
     },
     "output_type": "display_data"
    }
   ],
   "source": [
    "plt.figure(figsize = (15,5))\n",
    "ax = sns.barplot(x = usage_df.index, y = usage_df)\n",
    "ax.set_title(\"Usage Ratio (running time/total time per mission) across different regions\")"
   ]
  },
  {
   "cell_type": "markdown",
   "metadata": {},
   "source": [
    "### Average Pause Time"
   ]
  },
  {
   "cell_type": "code",
   "execution_count": 24,
   "metadata": {},
   "outputs": [],
   "source": [
    "pause_df = mission.groupby(\"region\")[\"pausem\"].mean().sort_values()"
   ]
  },
  {
   "cell_type": "code",
   "execution_count": 25,
   "metadata": {},
   "outputs": [
    {
     "data": {
      "text/plain": [
       "Text(0.5, 1.0, 'Average Pause Time across different regions')"
      ]
     },
     "execution_count": 25,
     "metadata": {},
     "output_type": "execute_result"
    },
    {
     "data": {
      "image/png": "[encoded data removed]",
      "text/plain": [
       "<Figure size 1080x360 with 1 Axes>"
      ]
     },
     "metadata": {
      "needs_background": "light"
     },
     "output_type": "display_data"
    }
   ],
   "source": [
    "plt.figure(figsize = (15,5))\n",
    "ax = sns.barplot(x = pause_df.index, y = pause_df)\n",
    "ax.set_title(\"Average Pause Time across different regions\")"
   ]
  },
  {
   "cell_type": "markdown",
   "metadata": {},
   "source": [
    "Asia has the highest usage ratio and the lowest average pausetime, while Israel is entirely the opposite. The other regions are very similar to each other. The takeaway here is that robots run smoothly in Asia and engineers need to focus less on path engineering for products sold there. But they should pay special attention to products sold in Israel to reduce pause time and improve usage ratio."
   ]
  },
  {
   "cell_type": "markdown",
   "metadata": {},
   "source": [
    "### Charging"
   ]
  },
  {
   "cell_type": "code",
   "execution_count": 26,
   "metadata": {},
   "outputs": [],
   "source": [
    "mission[\"charged\"] = 0\n",
    "mission.loc[mission[\"chrgm\"] >0, \"charged\"] = 1"
   ]
  },
  {
   "cell_type": "code",
   "execution_count": 27,
   "metadata": {},
   "outputs": [],
   "source": [
    "charge_df = mission.groupby(\"region\")[\"charged\"].sum()\n",
    "charge_df_count = mission.groupby(\"region\")[\"charged\"].count()\n",
    "charge_prop = (charge_df / charge_df_count).sort_values()"
   ]
  },
  {
   "cell_type": "code",
   "execution_count": 28,
   "metadata": {},
   "outputs": [
    {
     "data": {
      "text/plain": [
       "Text(0.5, 1.0, 'Proportion of times robot had to charge during mission')"
      ]
     },
     "execution_count": 28,
     "metadata": {},
     "output_type": "execute_result"
    },
    {
     "data": {
      "image/png": "[encoded data removed]",
      "text/plain": [
       "<Figure size 864x360 with 1 Axes>"
      ]
     },
     "metadata": {
      "needs_background": "light"
     },
     "output_type": "display_data"
    }
   ],
   "source": [
    "plt.figure(figsize = (12,5))\n",
    "ax = sns.barplot(x = charge_prop.index, y = charge_prop)\n",
    "ax.set_title(\"Proportion of times robot had to charge during mission\")"
   ]
  },
  {
   "cell_type": "markdown",
   "metadata": {},
   "source": [
    "This plot shows the percentage of times robot had to charge during a mission. Again, it seems like Israel is the odd one out. Products sold there should be installed with batteries that last longer."
   ]
  },
  {
   "cell_type": "markdown",
   "metadata": {},
   "source": [
    "### Cancelled mission analysis"
   ]
  },
  {
   "cell_type": "markdown",
   "metadata": {},
   "source": [
    "Cancelled mission represents to a great extent when the mission is too long for the user. We can first see which countries have a huge proportion of cancelled missions and see what the runtimes are during cancelled mission."
   ]
  },
  {
   "cell_type": "code",
   "execution_count": 29,
   "metadata": {},
   "outputs": [],
   "source": [
    "cancelled_df = mission.groupby(\"country_cd\")\n",
    "\n",
    "# filter out country that has less than 100 datapoints\n",
    "filtered_df = cancelled_df.filter(lambda x: x[\"runm\"].count() > 100)\n",
    "\n",
    "# get proportion of cancelled mission for each country\n",
    "filtered_df[\"cancel\"] = 0\n",
    "filtered_df.loc[filtered_df[\"outcome\"] == \"cncl\", \"cancel\"] = 1\n",
    "cancel_prop_df = filtered_df.groupby(\"country_cd\")[\"cancel\"].sum()/filtered_df.groupby(\"country_cd\")[\"cancel\"].count() \n",
    "\n",
    "# get avg. runtime\n",
    "temp = filtered_df[filtered_df[\"outcome\"] == \"cncl\"]\n",
    "cancel_runtime_df = temp.groupby(\"country_cd\")[\"runm\"].mean()\n",
    "cancel_df = pd.concat([cancel_prop_df, cancel_runtime_df], axis = 1)\n",
    "\n",
    "\n",
    "#top 10\n",
    "cancel_df = cancel_df.sort_values(by = \"cancel\", ascending = False).iloc[:10,].reset_index()"
   ]
  },
  {
   "cell_type": "code",
   "execution_count": 30,
   "metadata": {},
   "outputs": [],
   "source": [
    "geolocator = Nominatim(user_agent = \"yifan\")\n",
    "def get_lat(country):\n",
    "    try:\n",
    "        latitude = geolocator.geocode(country).latitude\n",
    "        return latitude\n",
    "    except:\n",
    "        return np.nan\n",
    "def get_long(country):\n",
    "    try:\n",
    "        longitude = geolocator.geocode(country).longitude\n",
    "        return longitude\n",
    "    except:\n",
    "        return np.nan\n",
    "    \n",
    "    "
   ]
  },
  {
   "cell_type": "code",
   "execution_count": 31,
   "metadata": {},
   "outputs": [],
   "source": [
    "cancel_df[\"lat\"] = cancel_df[\"country_cd\"].apply(get_lat)\n",
    "cancel_df[\"long\"] = cancel_df[\"country_cd\"].apply(get_long)\n",
    "\n",
    "# fill in for IL \n",
    "cancel_df.iloc[0, 3] = 31.0461\n",
    "cancel_df.iloc[0,4] = 34.8516\n"
   ]
  },
  {
   "cell_type": "code",
   "execution_count": 32,
   "metadata": {},
   "outputs": [
    {
     "data": {
      "text/html": [
       "<div style=\"width:100%;\"><div style=\"position:relative;width:100%;height:0;padding-bottom:60%;\"><span style=\"color:#565656\">Make this Notebook Trusted to load map: File -> Trust Notebook</span><iframe src=\"about:blank\" style=\"position:absolute;width:100%;height:100%;left:0;top:0;border:none !important;\" data-html=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 onload=\"this.contentDocument.open();this.contentDocument.write(atob(this.getAttribute('data-html')));this.contentDocument.close();\" allowfullscreen webkitallowfullscreen mozallowfullscreen></iframe></div></div>"
      ],
      "text/plain": [
       "<folium.folium.Map at 0x7fb4d777f590>"
      ]
     },
     "execution_count": 32,
     "metadata": {},
     "output_type": "execute_result"
    }
   ],
   "source": [
    "\n",
    "world_map= folium.Map()\n",
    "marker_cluster = MarkerCluster().add_to(world_map)\n",
    "#for each coordinate, create circlemarker of user percent\n",
    "for i in range(len(cancel_df)):\n",
    "        lat = cancel_df.iloc[i]['lat']\n",
    "        long = cancel_df.iloc[i]['long']\n",
    "        radius= cancel_df.iloc[i][\"cancel\"] * 50\n",
    "        tooltip = \"{country}: Percent of cancelled missions  {num}%\".format(country = cancel_df.iloc[i][\"country_cd\"], num = round(cancel_df.iloc[i][\"cancel\"]*100))\n",
    "        folium.CircleMarker(location = [lat, long], radius=radius, tooltip= tooltip, fill =True).add_to(marker_cluster)\n",
    "#show the map\n",
    "world_map\n",
    "    \n"
   ]
  },
  {
   "cell_type": "markdown",
   "metadata": {},
   "source": [
    "In the countries above, the cancelled mission takes up to more than 30% of the total missions, which means products sold in these countries should be designed with a shorter mission time. It seems like the optimal run time is between 40-50 minutes."
   ]
  },
  {
   "cell_type": "code",
   "execution_count": 33,
   "metadata": {},
   "outputs": [
    {
     "data": {
      "text/html": [
       "<div>\n",
       "<style scoped>\n",
       "    .dataframe tbody tr th:only-of-type {\n",
       "        vertical-align: middle;\n",
       "    }\n",
       "\n",
       "    .dataframe tbody tr th {\n",
       "        vertical-align: top;\n",
       "    }\n",
       "\n",
       "    .dataframe thead th {\n",
       "        text-align: right;\n",
       "    }\n",
       "</style>\n",
       "<table border=\"1\" class=\"dataframe\">\n",
       "  <thead>\n",
       "    <tr style=\"text-align: right;\">\n",
       "      <th></th>\n",
       "      <th>country_cd</th>\n",
       "      <th>cancel</th>\n",
       "      <th>runm</th>\n",
       "      <th>lat</th>\n",
       "      <th>long</th>\n",
       "    </tr>\n",
       "  </thead>\n",
       "  <tbody>\n",
       "    <tr>\n",
       "      <th>0</th>\n",
       "      <td>IL</td>\n",
       "      <td>0.475706</td>\n",
       "      <td>52.950139</td>\n",
       "      <td>31.046100</td>\n",
       "      <td>34.851600</td>\n",
       "    </tr>\n",
       "    <tr>\n",
       "      <th>1</th>\n",
       "      <td>ID</td>\n",
       "      <td>0.377049</td>\n",
       "      <td>40.021739</td>\n",
       "      <td>-2.483383</td>\n",
       "      <td>117.890285</td>\n",
       "    </tr>\n",
       "    <tr>\n",
       "      <th>2</th>\n",
       "      <td>IE</td>\n",
       "      <td>0.373832</td>\n",
       "      <td>37.775000</td>\n",
       "      <td>52.865196</td>\n",
       "      <td>-7.979460</td>\n",
       "    </tr>\n",
       "    <tr>\n",
       "      <th>3</th>\n",
       "      <td>KR</td>\n",
       "      <td>0.350746</td>\n",
       "      <td>48.319149</td>\n",
       "      <td>36.638392</td>\n",
       "      <td>127.696119</td>\n",
       "    </tr>\n",
       "    <tr>\n",
       "      <th>4</th>\n",
       "      <td>HU</td>\n",
       "      <td>0.340996</td>\n",
       "      <td>48.831461</td>\n",
       "      <td>47.181759</td>\n",
       "      <td>19.506094</td>\n",
       "    </tr>\n",
       "    <tr>\n",
       "      <th>5</th>\n",
       "      <td>AR</td>\n",
       "      <td>0.325048</td>\n",
       "      <td>54.252941</td>\n",
       "      <td>-34.996496</td>\n",
       "      <td>-64.967282</td>\n",
       "    </tr>\n",
       "    <tr>\n",
       "      <th>6</th>\n",
       "      <td>CL</td>\n",
       "      <td>0.309524</td>\n",
       "      <td>43.942308</td>\n",
       "      <td>-31.761336</td>\n",
       "      <td>-71.318770</td>\n",
       "    </tr>\n",
       "    <tr>\n",
       "      <th>7</th>\n",
       "      <td>CO</td>\n",
       "      <td>0.308696</td>\n",
       "      <td>45.028169</td>\n",
       "      <td>2.889443</td>\n",
       "      <td>-73.783892</td>\n",
       "    </tr>\n",
       "    <tr>\n",
       "      <th>8</th>\n",
       "      <td>PT</td>\n",
       "      <td>0.307353</td>\n",
       "      <td>46.818182</td>\n",
       "      <td>40.033263</td>\n",
       "      <td>-7.889626</td>\n",
       "    </tr>\n",
       "    <tr>\n",
       "      <th>9</th>\n",
       "      <td>HK</td>\n",
       "      <td>0.306836</td>\n",
       "      <td>47.217617</td>\n",
       "      <td>22.350627</td>\n",
       "      <td>114.184916</td>\n",
       "    </tr>\n",
       "  </tbody>\n",
       "</table>\n",
       "</div>"
      ],
      "text/plain": [
       "  country_cd    cancel       runm        lat        long\n",
       "0         IL  0.475706  52.950139  31.046100   34.851600\n",
       "1         ID  0.377049  40.021739  -2.483383  117.890285\n",
       "2         IE  0.373832  37.775000  52.865196   -7.979460\n",
       "3         KR  0.350746  48.319149  36.638392  127.696119\n",
       "4         HU  0.340996  48.831461  47.181759   19.506094\n",
       "5         AR  0.325048  54.252941 -34.996496  -64.967282\n",
       "6         CL  0.309524  43.942308 -31.761336  -71.318770\n",
       "7         CO  0.308696  45.028169   2.889443  -73.783892\n",
       "8         PT  0.307353  46.818182  40.033263   -7.889626\n",
       "9         HK  0.306836  47.217617  22.350627  114.184916"
      ]
     },
     "execution_count": 33,
     "metadata": {},
     "output_type": "execute_result"
    }
   ],
   "source": [
    "cancel_df"
   ]
  },
  {
   "cell_type": "markdown",
   "metadata": {},
   "source": [
    "### Time of day"
   ]
  },
  {
   "cell_type": "code",
   "execution_count": 34,
   "metadata": {},
   "outputs": [],
   "source": [
    "# create data\n",
    "dummies = pd.get_dummies(mission[\"time_of_day\"])\n",
    "time_df = pd.concat([mission, dummies], axis = 1)\n",
    "\n",
    "a = time_df.groupby(\"region\")[\"morning\"].sum()/time_df.groupby(\"region\")[\"morning\"].count()\n",
    "b = time_df.groupby(\"region\")[\"afternoon\"].sum()/time_df.groupby(\"region\")[\"afternoon\"].count()\n",
    "c= time_df.groupby(\"region\")[\"night\"].sum()/time_df.groupby(\"region\")[\"night\"].count()\n",
    "d = time_df.groupby(\"region\")[\"dawn\"].sum()/time_df.groupby(\"region\")[\"dawn\"].count()\n",
    "\n",
    "time_plot_df = pd.concat([a,b,c,d], axis = 1).reset_index()\n",
    "\n"
   ]
  },
  {
   "cell_type": "code",
   "execution_count": 35,
   "metadata": {},
   "outputs": [
    {
     "data": {
      "text/plain": [
       "<matplotlib.legend.Legend at 0x7fb4d7755390>"
      ]
     },
     "execution_count": 35,
     "metadata": {},
     "output_type": "execute_result"
    },
    {
     "data": {
      "image/png": "[encoded data removed]",
      "text/plain": [
       "<Figure size 1080x576 with 1 Axes>"
      ]
     },
     "metadata": {
      "needs_background": "light"
     },
     "output_type": "display_data"
    }
   ],
   "source": [
    "# plotting\n",
    "plt.figure(figsize = (15,8))\n",
    "p1 = plt.bar(time_plot_df[\"region\"], time_plot_df[\"morning\"])\n",
    "p2 = plt.bar(time_plot_df[\"region\"], time_plot_df[\"afternoon\"], bottom = time_plot_df[\"morning\"])\n",
    "p3 = plt.bar(time_plot_df[\"region\"], time_plot_df[\"night\"], bottom = time_plot_df[\"morning\"] + time_plot_df[\"afternoon\"])\n",
    "p4 = plt.bar(time_plot_df[\"region\"], time_plot_df[\"dawn\"], bottom = time_plot_df[\"morning\"] + time_plot_df[\"afternoon\"] +time_plot_df[\"night\"], color = \"grey\")\n",
    "plt.title(\"Proportion of missions during the day\")\n",
    "plt.ylim(0,1.2)\n",
    "plt.legend((p1, p2, p3, p4), (\"Morning\", \"Afternoon\", \"Night\", \"After Midnight\"))"
   ]
  },
  {
   "cell_type": "markdown",
   "metadata": {},
   "source": [
    "From the graph, we can see that most regions clean the most in the morning, except for Israel. African countries don't run missions as much in the afternoon, and Israel cleans 35% of the time between midnight and 8am. "
   ]
  },
  {
   "cell_type": "code",
   "execution_count": 36,
   "metadata": {},
   "outputs": [],
   "source": [
    "israel_time = mission[mission[\"country_cd\"] == \"IL\"].groupby(\"hour\").size().to_frame(\"freq\")\n",
    "israel_time = israel_time/len(mission[mission[\"country_cd\"] == \"IL\"])\n",
    "others_time = mission[mission[\"country_cd\"] != \"IL\"].groupby(\"hour\").size().to_frame(\"freq\")\n",
    "others_time = others_time/len(mission[mission[\"country_cd\"] != \"IL\"])"
   ]
  },
  {
   "cell_type": "code",
   "execution_count": 37,
   "metadata": {},
   "outputs": [
    {
     "data": {
      "text/plain": [
       "<matplotlib.legend.Legend at 0x7fb4d771b610>"
      ]
     },
     "execution_count": 37,
     "metadata": {},
     "output_type": "execute_result"
    },
    {
     "data": {
      "image/png": "[encoded data removed]",
      "text/plain": [
       "<Figure size 1080x432 with 1 Axes>"
      ]
     },
     "metadata": {
      "needs_background": "light"
     },
     "output_type": "display_data"
    }
   ],
   "source": [
    "#lineplot \n",
    "fig, ax = plt.subplots(figsize = (15, 6))\n",
    "\n",
    "ax.plot(israel_time.index , israel_time[\"freq\"], color = \"red\", label = \"Israel\")\n",
    "ax.plot(others_time.index , others_time[\"freq\"], color = \"blue\", label = \"Other countries\")\n",
    "plt.title(\"Frequency of missions across the day\")\n",
    "plt.xlabel(\"Hour of the day\",size =12)\n",
    "plt.ylabel(\"Freq\", size = 12)\n",
    "ax.legend()\n",
    "\n",
    "\n",
    "\n"
   ]
  },
  {
   "cell_type": "markdown",
   "metadata": {},
   "source": [
    "For most countries, there is a peak in usage around 9-10am and 7pm-8pm. However, for Israel, the peak is around 2-3am and 4pm-5pm.\n"
   ]
  },
  {
   "cell_type": "markdown",
   "metadata": {},
   "source": [
    "# Task 2 Inter-Mission Interval"
   ]
  },
  {
   "cell_type": "markdown",
   "metadata": {},
   "source": [
    "In calculating the IMI, obviously we won't have data for all the rows. We would only have data if the two consecutive rows are the same robot and the mission number is consecutive."
   ]
  },
  {
   "cell_type": "code",
   "execution_count": 38,
   "metadata": {},
   "outputs": [],
   "source": [
    "def extract_IMI(row, previous_row):\n",
    "    if row[\"robotid\"] != previous_row[\"robotid\"]:\n",
    "        return 0\n",
    "    elif row[\"nmssn\"] != previous_row[\"nmssn\"]+1:\n",
    "        return 0\n",
    "    else:\n",
    "        return row[\"datetime_object\"] - previous_row[\"datetime_object\"]"
   ]
  },
  {
   "cell_type": "code",
   "execution_count": 39,
   "metadata": {},
   "outputs": [],
   "source": [
    "IMI = []\n",
    "for i in range(1, len(mission)):\n",
    "        IMI.append(extract_IMI(mission.iloc[i], mission.iloc[i-1]))"
   ]
  },
  {
   "cell_type": "code",
   "execution_count": 40,
   "metadata": {},
   "outputs": [],
   "source": [
    "# convert to hours\n",
    "IMI_hours = []\n",
    "for entry in IMI: \n",
    "    if entry == 0:\n",
    "        IMI_hours.append(entry)\n",
    "    else:\n",
    "        IMI_hours.append(entry.days*24 + entry.seconds//3600)"
   ]
  },
  {
   "cell_type": "code",
   "execution_count": 41,
   "metadata": {},
   "outputs": [],
   "source": [
    "IMI.append(0)\n",
    "IMI_hours = pd.DataFrame(IMI_hours)"
   ]
  },
  {
   "cell_type": "code",
   "execution_count": 42,
   "metadata": {},
   "outputs": [],
   "source": [
    "mission_IMI = pd.concat([mission, IMI_hours], axis =1)"
   ]
  },
  {
   "cell_type": "code",
   "execution_count": 43,
   "metadata": {},
   "outputs": [],
   "source": [
    "mission_IMI.rename(columns = {0: \"IMI_hours\"}, inplace = True)"
   ]
  },
  {
   "cell_type": "markdown",
   "metadata": {},
   "source": [
    "### Mission Outcome and IMI"
   ]
  },
  {
   "cell_type": "markdown",
   "metadata": {},
   "source": [
    "The IMI_hours column represents the hours before the next clean-up happens for each row. We could have reasons to expect that IMI might be shorter when the session went smoothly, but also we could also suspect that when the robot is stuck, IMI might be shorter because it failed to clean the whole room. This is analysis we can perform. First, we need to remove all the rows that have IMI_hours = 0 as those are not consecutive rows. Also, some rows have IMI_hours <0 which are data errors."
   ]
  },
  {
   "cell_type": "code",
   "execution_count": 44,
   "metadata": {},
   "outputs": [],
   "source": [
    "mission_IMI_f = mission_IMI[mission_IMI[\"IMI_hours\"] > 0]"
   ]
  },
  {
   "cell_type": "code",
   "execution_count": 45,
   "metadata": {},
   "outputs": [
    {
     "data": {
      "text/plain": [
       "[Text(0.5, 1.0, 'IMI vs. outcome Box Plot')]"
      ]
     },
     "execution_count": 45,
     "metadata": {},
     "output_type": "execute_result"
    },
    {
     "data": {
      "image/png": "[encoded data removed]",
      "text/plain": [
       "<Figure size 1080x360 with 1 Axes>"
      ]
     },
     "metadata": {
      "needs_background": "light"
     },
     "output_type": "display_data"
    }
   ],
   "source": [
    "plt.figure(figsize = (15,5))\n",
    "ax = sns.boxplot(x = mission_IMI_f[\"outcome\"], y = mission_IMI_f[\"IMI_hours\"])\n",
    "ax.set(ylim = (0,250))\n",
    "ax.set(title = \"IMI vs. outcome Box Plot\")\n"
   ]
  },
  {
   "cell_type": "markdown",
   "metadata": {},
   "source": [
    "To my surprise, there is practically no difference between the categories. This is an important insight nevertheless, showing that user experience actually has little impact on IMI."
   ]
  },
  {
   "cell_type": "markdown",
   "metadata": {},
   "source": [
    "### IMI in different month"
   ]
  },
  {
   "cell_type": "code",
   "execution_count": 46,
   "metadata": {},
   "outputs": [
    {
     "data": {
      "text/plain": [
       "[Text(0.5, 1.0, 'IMI vs. Month boxplot')]"
      ]
     },
     "execution_count": 46,
     "metadata": {},
     "output_type": "execute_result"
    },
    {
     "data": {
      "image/png": "[encoded data removed]",
      "text/plain": [
       "<Figure size 1080x360 with 1 Axes>"
      ]
     },
     "metadata": {
      "needs_background": "light"
     },
     "output_type": "display_data"
    }
   ],
   "source": [
    "plt.figure(figsize = (15,5))\n",
    "ax = sns.boxplot(x = mission_IMI_f[\"month\"], y = mission_IMI_f[\"IMI_hours\"])\n",
    "ax.set(ylim = (0,300))\n",
    "ax.set(title = \"IMI vs. Month boxplot\")"
   ]
  },
  {
   "cell_type": "markdown",
   "metadata": {},
   "source": [
    "It seems like people clean more frequently in November and December, maybe it's holiday season. We could potentially group them together to conduct a t-test, to see if the IMI is significantly different than the rest of the year. "
   ]
  },
  {
   "cell_type": "markdown",
   "metadata": {},
   "source": [
    "##### t-test"
   ]
  },
  {
   "cell_type": "code",
   "execution_count": 47,
   "metadata": {},
   "outputs": [],
   "source": [
    "holiday_test = mission_IMI_f"
   ]
  },
  {
   "cell_type": "code",
   "execution_count": 48,
   "metadata": {},
   "outputs": [],
   "source": [
    "holiday = holiday_test[(holiday_test[\"month\"] == 11) | (holiday_test[\"month\"] ==12)]\n",
    "holiday_mean = holiday[\"IMI_hours\"].mean()\n",
    "holiday_std = (stat.stdev(holiday[\"IMI_hours\"]))**2\n",
    "\n",
    "non_holi = holiday_test[(holiday_test[\"month\"] != 11) | (holiday_test[\"month\"] !=12)]\n",
    "non_holi_mean = non_holi[\"IMI_hours\"].mean()\n",
    "non_holi_std = (stat.stdev(holiday[\"IMI_hours\"]))**2"
   ]
  },
  {
   "cell_type": "code",
   "execution_count": 49,
   "metadata": {},
   "outputs": [
    {
     "name": "stdout",
     "output_type": "stream",
     "text": [
      "the p_value of the test is 0.0\n"
     ]
    }
   ],
   "source": [
    "pooled = (holiday_std/len(holiday) + non_holi_std/len(non_holi))** (1/2)\n",
    "t_stat = (non_holi_mean - holiday_mean)/pooled\n",
    "df = len(holiday) + len(non_holi) -2\n",
    "p_value = 1 - stats.t.cdf(t_stat, df =df)\n",
    "print(\"the p_value of the test is \" + str(p_value))"
   ]
  },
  {
   "cell_type": "markdown",
   "metadata": {},
   "source": [
    "Our null hypothesis is that holiday season (Nov and Dec) have the same IMI as the rest of the year. We reject the null with strong evidence (p_value =0). People do seem to use the robot more often in Nov. and Dec."
   ]
  },
  {
   "cell_type": "markdown",
   "metadata": {},
   "source": [
    "### Low IMI countries"
   ]
  },
  {
   "cell_type": "markdown",
   "metadata": {},
   "source": [
    "Low IMI countries represent good opportunity to further sell robots and supplementary materials."
   ]
  },
  {
   "cell_type": "code",
   "execution_count": 67,
   "metadata": {},
   "outputs": [],
   "source": [
    "# filter out countries with <100 datapoints\n",
    "temp = mission_IMI_f.groupby(\"country_cd\").filter(lambda x: x[\"runm\"].count() > 100)\n",
    "\n",
    "#take the top 10 countries with the lowest IMI\n",
    "IMI_top_df = temp.groupby(\"country_cd\")[\"IMI_hours\"].mean().sort_values().iloc[:10,]\n",
    "IMI_top = IMI_top_df.reset_index()\n",
    "\n",
    "# assign geo location\n",
    "IMI_top[\"long\"] = IMI_top[\"country_cd\"].apply(get_long)\n",
    "IMI_top[\"lat\"] = IMI_top[\"country_cd\"].apply(get_lat)"
   ]
  },
  {
   "cell_type": "code",
   "execution_count": 74,
   "metadata": {},
   "outputs": [
    {
     "data": {
      "text/html": [
       "<div style=\"width:100%;\"><div style=\"position:relative;width:100%;height:0;padding-bottom:60%;\"><span style=\"color:#565656\">Make this Notebook Trusted to load map: File -> Trust Notebook</span><iframe src=\"about:blank\" style=\"position:absolute;width:100%;height:100%;left:0;top:0;border:none !important;\" data-html=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 onload=\"this.contentDocument.open();this.contentDocument.write(atob(this.getAttribute('data-html')));this.contentDocument.close();\" allowfullscreen webkitallowfullscreen mozallowfullscreen></iframe></div></div>"
      ],
      "text/plain": [
       "<folium.folium.Map at 0x7fb4d75d4990>"
      ]
     },
     "execution_count": 74,
     "metadata": {},
     "output_type": "execute_result"
    }
   ],
   "source": [
    "# plot\n",
    "world_map= folium.Map()\n",
    "marker_cluster = MarkerCluster().add_to(world_map)\n",
    "#for each coordinate, create circlemarker of user percent\n",
    "for i in range(len(IMI_top)):\n",
    "        lat = IMI_top.iloc[i]['lat']\n",
    "        long = IMI_top.iloc[i]['long']\n",
    "        radius= (IMI_top.iloc[i][\"IMI_hours\"] * (-1)) + 100 \n",
    "        tooltip = \"{country}: IMI of {num} hours\".format(country = IMI_top.iloc[i][\"country_cd\"], num = round(IMI_top.iloc[i][\"IMI_hours\"]))\n",
    "        folium.CircleMarker(location = [lat, long], radius=radius, tooltip= tooltip, fill =True).add_to(marker_cluster)\n",
    "#show the map\n",
    "world_map"
   ]
  },
  {
   "cell_type": "markdown",
   "metadata": {},
   "source": [
    "### IMI Regression"
   ]
  },
  {
   "cell_type": "markdown",
   "metadata": {},
   "source": [
    "Regression is a great way to understand how different features relate to IMI. "
   ]
  },
  {
   "cell_type": "code",
   "execution_count": 83,
   "metadata": {},
   "outputs": [],
   "source": [
    "# create dummies for outcome, month, time_of_day, region\n",
    "outcome_dummies = pd.get_dummies(mission_IMI_f['outcome'])\n",
    "month_dummies = pd.get_dummies(mission_IMI_f[\"month\"], prefix = \"Month\")\n",
    "time_dummies = pd.get_dummies(mission_IMI_f['time_of_day'])\n",
    "region_dummies = pd.get_dummies(mission_IMI_f['region'])\n"
   ]
  },
  {
   "cell_type": "code",
   "execution_count": 150,
   "metadata": {},
   "outputs": [
    {
     "name": "stdout",
     "output_type": "stream",
     "text": [
      "                                 OLS Regression Results                                \n",
      "=======================================================================================\n",
      "Dep. Variable:              IMI_hours   R-squared (uncentered):                   0.196\n",
      "Model:                            OLS   Adj. R-squared (uncentered):              0.196\n",
      "Method:                 Least Squares   F-statistic:                              2060.\n",
      "Date:                Tue, 04 Aug 2020   Prob (F-statistic):                        0.00\n",
      "Time:                        23:50:04   Log-Likelihood:                     -1.6742e+06\n",
      "No. Observations:              245059   AIC:                                  3.349e+06\n",
      "Df Residuals:                  245030   BIC:                                  3.349e+06\n",
      "Df Model:                          29                                                  \n",
      "Covariance Type:            nonrobust                                                  \n",
      "=================================================================================\n",
      "                    coef    std err          t      P>|t|      [0.025      0.975]\n",
      "---------------------------------------------------------------------------------\n",
      "runm             -0.1300      0.018     -7.079      0.000      -0.166      -0.094\n",
      "chrgm             1.1559      0.065     17.870      0.000       1.029       1.283\n",
      "pausem            1.1570      0.064     18.201      0.000       1.032       1.282\n",
      "usage_ratio     120.4738      3.067     39.278      0.000     114.462     126.485\n",
      "bat               0.0102      2.929      0.003      0.997      -5.731       5.752\n",
      "cncl             -1.3474      0.959     -1.405      0.160      -3.227       0.532\n",
      "stuck            -4.4119      2.771     -1.592      0.111      -9.843       1.019\n",
      "Month_2          10.3747      2.672      3.883      0.000       5.138      15.611\n",
      "Month_3           8.0687      2.547      3.167      0.002       3.076      13.062\n",
      "Month_4           6.2071      2.504      2.479      0.013       1.299      11.115\n",
      "Month_5           2.7733      2.468      1.124      0.261      -2.065       7.611\n",
      "Month_6          -4.5808      2.422     -1.891      0.059      -9.328       0.167\n",
      "Month_7          -6.1603      2.387     -2.581      0.010     -10.838      -1.482\n",
      "Month_8         -10.9035      2.372     -4.596      0.000     -15.553      -6.254\n",
      "Month_9         -17.1823      2.372     -7.245      0.000     -21.831     -12.534\n",
      "Month_10        -23.8160      2.346    -10.151      0.000     -28.415     -19.217\n",
      "Month_11        -31.3966      2.366    -13.269      0.000     -36.034     -26.759\n",
      "Month_12        -35.7764      2.412    -14.833      0.000     -40.504     -31.049\n",
      "afternoon         3.7447      1.289      2.905      0.004       1.218       6.271\n",
      "dawn              7.2779      1.277      5.701      0.000       4.776       9.780\n",
      "night             7.0513      1.429      4.935      0.000       4.251       9.852\n",
      "Africa          -33.5620     27.273     -1.231      0.218     -87.016      19.892\n",
      "Asia             -0.9015      2.290     -0.394      0.694      -5.390       3.587\n",
      "Atlantic        -12.3131     12.581     -0.979      0.328     -36.972      12.345\n",
      "Australia        11.2421      5.273      2.132      0.033       0.908      21.577\n",
      "Europe            7.2156      2.088      3.455      0.001       3.122      11.309\n",
      "Israel           11.1623      1.978      5.644      0.000       7.286      15.039\n",
      "Latin_America    22.6503      7.755      2.921      0.003       7.450      37.851\n",
      "Pacific          -3.0329     10.251     -0.296      0.767     -23.124      17.058\n",
      "==============================================================================\n",
      "Omnibus:                   376832.811   Durbin-Watson:                   1.378\n",
      "Prob(Omnibus):                  0.000   Jarque-Bera (JB):        344257071.370\n",
      "Skew:                           9.528   Prob(JB):                         0.00\n",
      "Kurtosis:                     185.625   Cond. No.                     3.70e+03\n",
      "==============================================================================\n",
      "\n",
      "Warnings:\n",
      "[1] Standard Errors assume that the covariance matrix of the errors is correctly specified.\n",
      "[2] The condition number is large, 3.7e+03. This might indicate that there are\n",
      "strong multicollinearity or other numerical problems.\n"
     ]
    }
   ],
   "source": [
    "regress_df = pd.concat([mission_IMI_f, outcome_dummies, month_dummies, time_dummies, region_dummies], axis = 1)\n",
    "regress_df = regress_df.dropna()\n",
    "\n",
    "#retrive all regressors\n",
    "temp = outcome_dummies.columns.append(month_dummies.columns).append(time_dummies.columns).append(region_dummies.columns)\n",
    "cols = []\n",
    "for i in [\"runm\", \"chrgm\", \"pausem\", \"usage_ratio\"]:\n",
    "    cols.append(i)\n",
    "for i in temp:\n",
    "    cols.append(i)\n",
    "\n",
    "# drop one for each cate as baseline\n",
    "cols.remove(\"ok\")\n",
    "cols.remove(\"Month_1\")\n",
    "cols.remove(\"morning\")\n",
    "cols.remove(\"America\")\n",
    " \n",
    "\n",
    "\n",
    "#model\n",
    "X = regress_df[cols]\n",
    "Y = regress_df[\"IMI_hours\"]\n",
    "lm = sm.OLS(Y, X)\n",
    "a = lm.fit()\n",
    "print(a.summary())\n"
   ]
  },
  {
   "cell_type": "markdown",
   "metadata": {},
   "source": [
    "We only care about the covariates that are statistically significant (p_value < 0.01). I will present the insights in the conclusion."
   ]
  },
  {
   "cell_type": "markdown",
   "metadata": {},
   "source": [
    "# Conclusion"
   ]
  },
  {
   "cell_type": "markdown",
   "metadata": {},
   "source": [
    "Here are the main insights from the project:\n",
    "\n",
    "1) Asia (excluding Israel)'s Usage ratio is the highest and its average pause time is by far the lowest. This means products there are running smoothly and product design team can perhams spend less time on the path engineering on products sold there.\n",
    "\n",
    "2) Israel is very interesting. Its pause time is much higher than other regions. Almost 50% of the time, the robot has to charge during the mission, which is much higher than other regions. This suggests that they need better path engineering and longer battery life.\n",
    "\n",
    "3) I identified 10 countries where users decided to cancel more than 30% of the time, including Israel, Hong Kong, Korea, Ireland, Columbia etc. The company could consider shorten the mission for these areas. The optimal mission time seems to be around 40 - 50 mins.\n",
    "\n",
    "4) While people in most regions clean most often in the morning, around 10am, Israel has a huge peak around 2am-3am. This might explain why they have such a high cancel percentage and a high \"need to charge\" percentage. No one wants to run 90 min sessions at 2am and also this could disturb robot's regular charging at night. The company should consider designing a specific product for the region that takes this into account.\n",
    "\n",
    "5) From the IMI analysis, people seem to clean very often during the holiday season (Nomvember + December). A t-test rejects the null that the holiday season is not different from the rest of the year.\n",
    "\n",
    "6) I identified 10 countries that have the lowest IMI, including Ireland (26 hours), Latvia (73 hours), Sweden, Singapore etc. These markets would be further exploited to sell more robots or complementary things such as replacement trays or batteries.\n",
    "\n",
    "7) From the regression analysis, we see the usage_ratio actually affects IMI. When the robot works better, the IMI is longer. Comparing to Jan., later months in the year (after July) has lower IMI. People who clean in the morning has a slightly lower IMI. Comparing to America, Europe, Israel and Latin America have longer IMI. Other regions are statistically insignificant."
   ]
  },
  {
   "cell_type": "code",
   "execution_count": null,
   "metadata": {},
   "outputs": [],
   "source": []
  }
 ],
 "metadata": {
  "kernelspec": {
   "display_name": "Python 3",
   "language": "python",
   "name": "python3"
  },
  "language_info": {
   "codemirror_mode": {
    "name": "ipython",
    "version": 3
   },
   "file_extension": ".py",
   "mimetype": "text/x-python",
   "name": "python",
   "nbconvert_exporter": "python",
   "pygments_lexer": "ipython3",
   "version": "3.7.6"
  }
 },
 "nbformat": 4,
 "nbformat_minor": 4
}
